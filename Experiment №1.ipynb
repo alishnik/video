{
 "cells": [
  {
   "cell_type": "markdown",
   "metadata": {},
   "source": [
    "<a id='head'></a>\n",
    "# Table of Contents\n",
    "* [0. Models importing](#import)\n",
    "    * [0.1 Helpful functions](#funcs)\n",
    "* [1. Arguments loading](#args)\n",
    "* [2. RUN](#run)\n",
    "    * [2.1 Runner 1](#runner_1)\n",
    "    * [2.2 Runner 2](#runner_2)\n",
    "        * [2.1.1 Initialisation](#init)\n",
    "        * [2.1.2 Run](#run_)\n",
    "* [3. Save results](#save)\n",
    "* [4. Plots](#plots)"
   ]
  },
  {
   "cell_type": "markdown",
   "metadata": {},
   "source": [
    "<a id='import'></a>\n",
    "# 0. Models importing<sup>[head](#head)</sup>"
   ]
  },
  {
   "cell_type": "code",
   "execution_count": 127,
   "metadata": {
    "collapsed": false
   },
   "outputs": [],
   "source": [
    "%run Models.ipynb"
   ]
  },
  {
   "cell_type": "markdown",
   "metadata": {},
   "source": [
    "<a id='funcs'></a>\n",
    "## 0.1 Helpful functions<sup>[head](#head)</sup>"
   ]
  },
  {
   "cell_type": "code",
   "execution_count": 371,
   "metadata": {
    "collapsed": true
   },
   "outputs": [],
   "source": [
    "def preprocessor(batchfile_path, input_state, arr_period, alpha=1, tail_length=-1):\n",
    "    trace = []\n",
    "    whole_trace = pd.read_table(batchfile_path, header = None).values.flatten()\n",
    "\n",
    "    if input_state[0] >= 0:\n",
    "        trace = []\n",
    "        trace.append(input_state[1])\n",
    "        h = input_state[0] - arr_period\n",
    "        n = input_state[2] + 1\n",
    "        while h >= 0:\n",
    "            trace.append(whole_trace[n])\n",
    "            h -= arr_period\n",
    "            n +=1\n",
    "    else:\n",
    "        trace = []\n",
    "        \n",
    "    sent_trace = whole_trace[:input_state[2] - 1].tolist() + trace\n",
    "            \n",
    "    input_distr_dict, input_distr, cond_probs = distributor(sent_trace, alpha)\n",
    "    \n",
    "    problist = Counter()\n",
    "    lostlist = Counter()\n",
    "    arr_list = Counter()\n",
    "    if input_state[0] >= 0:\n",
    "        problist = {(0, input_state[0], input_state[1], input_state[2]) : 1} #0 because we know trace\n",
    "        lostlist = {(0, input_state[0], input_state[1], input_state[2]) : 0} #0 because we know trace\n",
    "        arr_list = {(0, input_state[0], input_state[1], input_state[2]) : 0} #0 because we know trace\n",
    "    else:\n",
    "        for size, prob in input_distr_dict.items():\n",
    "            problist += {(1, input_state[0], size, size) : prob}\n",
    "            lostlist += {(1, input_state[0], size, size) : 0}\n",
    "            arr_list += {(1, input_state[0], size, size) : 0}\n",
    "    \n",
    "    return trace, input_distr_dict, input_distr, cond_probs, problist, lostlist, arr_list\n",
    "\n",
    "def distributor(trace, alpha, tail_length=-1, n=-1):\n",
    "    if tail_length != -1:\n",
    "        if n != -1:\n",
    "            tail_trace = trace[n - tail_length:n]\n",
    "        else:\n",
    "            tail_trace = trace[- tail_length:]\n",
    "    else:\n",
    "        if n != -1:\n",
    "            tail_trace = trace[:n]\n",
    "        else:\n",
    "            tail_trace = trace\n",
    "            \n",
    "    tail_trace = tail_trace[::-1] #Развернуть для удобного подсчёта распределения\n",
    "    max_size = max(tail_trace)\n",
    "    input_distr_dict = Counter()\n",
    "    input_distr = np.zeros(max_size + 1)\n",
    "    cond_probs = np.zeros((max_size + 1, max_size + 1))\n",
    "    \n",
    "    ###Получение распределений\n",
    "    for i in range(len(tail_trace)):\n",
    "        input_distr_dict[tail_trace[i]] += alpha ** i\n",
    "        input_distr[tail_trace[i]] += alpha ** i\n",
    "    \n",
    "    for i in range(len(tail_trace) - 1):\n",
    "        cond_probs[tail_trace[i+1], tail_trace[i]] += alpha ** i\n",
    "    \n",
    "    ###########Нормировка##############################################3\n",
    "    ###матрицы условных вероятностей\n",
    "    for i in range(1, max_size + 1):\n",
    "        line_sum = np.sum(cond_probs[i])\n",
    "        if line_sum == 0:\n",
    "            cond_probs[i, 0] = 1\n",
    "        else:\n",
    "            cond_probs[i] = cond_probs[i] / line_sum\n",
    "    ###словаря с распределением\n",
    "    summa = sum(input_distr_dict.values())\n",
    "    for batch_size, prob in input_distr_dict.items():\n",
    "        input_distr_dict[batch_size] /= summa\n",
    "    ###массива с распределением\n",
    "    input_distr = input_distr / np.sum(input_distr)\n",
    "            \n",
    "    return input_distr_dict, input_distr, cond_probs\n",
    "\n",
    "def refresh_input(dictionary, input_file):\n",
    "    file = open(input_file, 'w')\n",
    "    for key,value in dictionary.items():\n",
    "        file.write(key + ' ' + str(value) + '\\n')\n",
    "    file.close()\n",
    "    \n",
    "def init_dict(args_dict, current_age=0, current_size=0, batch_index=0):\n",
    "    new_dict = {\"seed\": args_dict['seed'],\n",
    "                 \"res_period\" : args_dict['res_period'],\n",
    "                 \"arr_period\" : args_dict['arr_period'],\n",
    "                 \"batchfile_path\" : args_dict['batchfile_path'],\n",
    "                 \"delay_bound\" : args_dict['delay_bound'],\n",
    "                 \"det_per\" : args_dict['det_per'],\n",
    "                 \"ran_per\" : args_dict['ran_per'],\n",
    "                 \"window_size\" : args_dict['window_size'],\n",
    "                 \"rand_tx_duration\" : args_dict['rand_tx_duration'],\n",
    "                 \"det_tx_duration\" : args_dict['det_tx_duration'],\n",
    "                 \"mean_access_time\" : args_dict['mean_access_time'],\n",
    "                 \"max_batch_size\" : args_dict['max_batch_size'],\n",
    "                 \"random_on\" : args_dict['random_on'],\n",
    "                 \"current_age\" : current_age,\n",
    "                 \"current_size\" : current_size,\n",
    "                 \"batch_index\" : batch_index}\n",
    "    return new_dict"
   ]
  },
  {
   "cell_type": "markdown",
   "metadata": {},
   "source": [
    "<a id='args'></a>\n",
    "# 1. Arguments loading<sup>[head](#head)</sup>"
   ]
  },
  {
   "cell_type": "code",
   "execution_count": 367,
   "metadata": {
    "collapsed": true
   },
   "outputs": [],
   "source": [
    "number_of_windows = 20\n",
    "res_period_array = [1,2,3,4,5,6,7,8,9,10,12,14,16,18,20,25,30,35]\n",
    "#init_res_period = 35\n",
    "\n",
    "input_file = 'input.txt'\n",
    "target_plr = 0.0001\n",
    "\n",
    "params = {}\n",
    "params['model_name'] = 'TXOP'\n",
    "params['model_type'] = 'ana'\n",
    "params['block_size'] = 1\n",
    "params['seed'] = 1\n",
    "params['arr_period'] = args_dict['arr_period']\n",
    "params['delay_bound'] = args_dict['delay_bound']\n",
    "params['per'] = args_dict['det_per']"
   ]
  },
  {
   "cell_type": "markdown",
   "metadata": {},
   "source": [
    "<a id='run'></a>\n",
    "# 2. RUN<sup>[head](#head)</sup>"
   ]
  },
  {
   "cell_type": "markdown",
   "metadata": {},
   "source": [
    "<a id='runner_1'></a>\n",
    "## 2.1 Runner 1<sup>[head](#head)</sup>"
   ]
  },
  {
   "cell_type": "code",
   "execution_count": 449,
   "metadata": {
    "collapsed": false
   },
   "outputs": [],
   "source": [
    "def run(model_name, number_of_windows, write_to_file=False, res_periods=res_period_array,\n",
    "        input_file=input_file, target_plr=target_plr, output_folder='results/'):\n",
    "    ana_plr = [0]\n",
    "    sim_plr = []\n",
    "    TRES = []\n",
    "    length = len(res_periods)\n",
    "    plr_ideal = []\n",
    "    tres_ideal = []\n",
    "    for it in range(number_of_windows):\n",
    "        sim_model = SimulationModel(input_file=input_file)\n",
    "        args_dict, PLR_sim = sim_model()\n",
    "        \n",
    "        input_state = (args_dict['current_age'], args_dict['current_size'], args_dict['batch_index'])\n",
    "        print('input_state = ', input_state)\n",
    "\n",
    "        TRES.append(args_dict['res_period'])\n",
    "        sim_plr.append(PLR_sim)\n",
    "\n",
    "        trace, input_distr_dict, input_distr, cond_probs, statesproba, stateslost, statesarrived = preprocessor(args_dict['batchfile_path'], input_state, args_dict['arr_period'])\n",
    "        \n",
    "        outname = str(args_dict['seed']) + '-' + str(args_dict['window_size']) + '-' + str(number_of_windows) + '-' + str(args_dict['batchfile_path'])\n",
    "        outname_final = 'final-' + outname\n",
    "        if write_to_file:\n",
    "            f = open(output_folder + outname, \"a\")\n",
    "            f.write(\"sim\\t{0}\\t{1}\\t{2}\\n\".format(it, args_dict['res_period'], PLR_sim))\n",
    "        print('sim', it, args_dict['res_period'], PLR_sim)        \n",
    "            \n",
    "        #for binary search\n",
    "        left_index = 0\n",
    "        right_index = length - 1\n",
    "        index = length - 1\n",
    "        res_period = res_periods[length - 1]\n",
    "        #index_prev = lrngth - 1\n",
    "        plr_prev = 1\n",
    "        plr = 1\n",
    "        while (1):\n",
    "            assert(res_period > 0)\n",
    "            if model_name == 'Dynamic':\n",
    "                tracer = BaseTracer(args_dict['arr_period'], res_period,\n",
    "                                    args_dict['delay_bound'], args_dict['det_per'])\n",
    "                tracer.reset(trace, statesproba, stateslost, statesarrived, input_distr_dict)\n",
    "                plr = tracer(args_dict['window_size'], verbose=2, report_period=100000, min_tracked_proba=1e-8)\n",
    "            else:\n",
    "                params['input_distr'] = input_distr\n",
    "                params['res_period'] = res_period\n",
    "                params['cond_probs'] = cond_probs\n",
    "                if model_name == '(h,m)':\n",
    "                    PLR = BurstyVbrOrderedModel_hm(params)\n",
    "                else:\n",
    "                    assert model_name == '(h,m,n)'\n",
    "                    PLR = BurstyVbrOrderedModel_hmn(params)\n",
    "                plr = PLR()\n",
    "            if write_to_file:\n",
    "                f.write('{0}\\t{1}\\t{2}\\t{3}'.format(model_name, it, res_period, plr))\n",
    "            print(model_name, it, res_period, plr)   \n",
    "                \n",
    "            #if plr > 1:\n",
    "            #    raise ValueError(\"eptahule\")\n",
    "            if plr <= target_plr:\n",
    "                if index == right_index:\n",
    "                    ana_plr.append(plr)\n",
    "                    break\n",
    "                else:\n",
    "                    left_index = index\n",
    "                    if left_index + 1 == right_index:\n",
    "                        ana_plr.append(plr)\n",
    "                        break\n",
    "                    else:\n",
    "                        plr_prev = plr\n",
    "                        index = int(np.floor((right_index + left_index) / 2))\n",
    "                        res_period = res_periods[index]\n",
    "            else:\n",
    "                if index == 0:\n",
    "                    ana_plr.append(plr)\n",
    "                    break\n",
    "                right_index = index\n",
    "                if left_index + 1 == right_index:\n",
    "                    res_period = res_periods[left_index]\n",
    "                    ana_plr.append(plr_prev)\n",
    "                    break\n",
    "                else:\n",
    "                    plr_prev = plr\n",
    "                    index = int(np.floor((right_index + left_index) / 2))\n",
    "                    res_period = res_periods[index]\n",
    "\n",
    "        args_dict['res_period'] = res_period\n",
    "        refresh_input(args_dict, input_file=input_file)\n",
    "                    \n",
    "                    \n",
    "    sim_model = SimulationModel(input_file=input_file)\n",
    "    args_dict, PLR_sim = sim_model()\n",
    "    \n",
    "    if write_to_file:\n",
    "        f.write(\"sim\\t{0}\\t{1}\\t{2}\\n\".format(it, args_dict['res_period'], PLR_sim))\n",
    "        f.close()\n",
    "    print('sim', it, args_dict['res_period'], PLR_sim)\n",
    "    \n",
    "    \n",
    "    if write_to_file:\n",
    "        with open(outfolder + final_outname,\"w\") as f1:\n",
    "            for i in range(len(sim_plr)):\n",
    "                f.write(\"{0}\\t{1}\\t{2}\\n\".format(ana[i],sim[i],tres[i]))\n",
    "        f1.close()\n",
    "\n",
    "    dictionary = init_dict(args_dict)\n",
    "    refresh_input(dictionary, input_file=input_file)\n",
    "    \n",
    "    return ana_plr, sim_plr, TRES, plr_ideal, tres_ideal"
   ]
  },
  {
   "cell_type": "code",
   "execution_count": 450,
   "metadata": {
    "collapsed": true
   },
   "outputs": [],
   "source": [
    "import bisect as bs\n",
    "\n",
    "def run_only_sim(number_of_windows, write_to_file=False, res_periods=res_period_array,\n",
    "        input_file=input_file, target_plr=target_plr, output_folder='results/'):\n",
    "    sim_plr = []\n",
    "    TRES = []\n",
    "    length = len(res_periods)\n",
    "    plr_ideal = []\n",
    "    tres_ideal = []\n",
    "    sim_model = SimulationModel(input_file=input_file)\n",
    "    args_dict, PLR_sim = sim_model()\n",
    "    \n",
    "    for it in range(number_of_windows):\n",
    "        copy_args_dict = args_dict\n",
    "        PLR_ideal_list = np.zeros(length)\n",
    "        #Прогон по seed'ам для поиска действительно наилучшего T_res\n",
    "        input_state = (args_dict['current_age'], args_dict['current_size'], args_dict['batch_index'])\n",
    "        for seed_value in range(600,600 + number_of_seeds):\n",
    "            for i in range(len(res_periods)):\n",
    "                copy_args_dict['res_period'] = res_periods[i]\n",
    "                copy_args_dict['seed'] = seed_value\n",
    "                refresh_input(copy_args_dict, input_file=input_file)\n",
    "                sim_model = SimulationModel(input_file=input_file)\n",
    "                _, PLR_iter = sim_model()\n",
    "                PLR_ideal_list[i] += PLR_iter\n",
    "        PLR_ideal_list /= number_of_seeds\n",
    "    \n",
    "        i = bs.bisect_right(PLR_ideal_list, target_plr)\n",
    "        if i:\n",
    "            plr_ideal.append(PLR_ideal_list[i - 1])\n",
    "            tres_ideal.append(res_periods[i - 1])\n",
    "        else:\n",
    "            plr_ideal.append(PLR_ideal_list[0])\n",
    "            tres_ideal.append(res_periods[0])\n",
    "        \n",
    "        refresh_input(args_dict, input_file=input_file)\n",
    "        sim_model = SimulationModel(input_file=input_file)\n",
    "        args_dict, PLR_sim = sim_model()\n",
    "    \n",
    "    dictionary = init_dict(args_dict)\n",
    "    refresh_input(dictionary, input_file=input_file)\n",
    "        \n",
    "    return plr_ideal, tres_ideal"
   ]
  },
  {
   "cell_type": "markdown",
   "metadata": {},
   "source": [
    "<a id='proc'></a>\n",
    "## 2.1 Processing<sup>[head](#head)</sup>"
   ]
  },
  {
   "cell_type": "markdown",
   "metadata": {},
   "source": [
    "<a id='init'></a>\n",
    "### 2.1.1 Initialisation<sup>[head](#head)</sup>"
   ]
  },
  {
   "cell_type": "code",
   "execution_count": 447,
   "metadata": {
    "collapsed": false
   },
   "outputs": [],
   "source": [
    "args_dict['batchfile_path'] = 'South.batch.dat'\n",
    "args_dict['window_size'] = 100000\n",
    "args_dict['arr_period'] = 400"
   ]
  },
  {
   "cell_type": "code",
   "execution_count": 448,
   "metadata": {
    "collapsed": false
   },
   "outputs": [],
   "source": [
    "input_file = 'input1.txt'\n",
    "dictionary = init_dict(args_dict)\n",
    "refresh_input(dictionary, input_file=input_file)"
   ]
  },
  {
   "cell_type": "code",
   "execution_count": 442,
   "metadata": {
    "collapsed": true
   },
   "outputs": [],
   "source": [
    "dictionary = init_dict(args_dict, batch_index=0)\n",
    "refresh_input(dictionary, input_file=input_file)\n",
    "number_of_seeds = 1500\n",
    "\n",
    "target_plr = 0.0005\n",
    "res_period_array = [1,2,3,4,5,6,7,8,9,10,11,12,13,14,15,16,17,18,19,20,25,30]\n",
    "number_of_windows = 20\n",
    "model_names = ['(h,m)', '(h,m,n)', 'Dynamic']\n",
    "new_results = {}"
   ]
  },
  {
   "cell_type": "markdown",
   "metadata": {},
   "source": [
    "<a id='run_'></a>\n",
    "### 2.1.2 Run<sup>[head](#head)</sup>"
   ]
  },
  {
   "cell_type": "code",
   "execution_count": null,
   "metadata": {
    "collapsed": false,
    "scrolled": true
   },
   "outputs": [],
   "source": [
    "ideal_sim_plr, ideal_sim_tres, = run_only_sim(number_of_windows, write_to_file=False, res_periods=res_period_array,\n",
    "                            input_file=input_file, target_plr=target_plr, output_folder='results/')"
   ]
  },
  {
   "cell_type": "code",
   "execution_count": null,
   "metadata": {
    "collapsed": false,
    "scrolled": true
   },
   "outputs": [
    {
     "name": "stdout",
     "output_type": "stream",
     "text": [
      "input_state =  (20, 4, 250)\n",
      "sim 0 30 0.445255\n",
      "(h,m) 0 30 0.45562988797\n"
     ]
    },
    {
     "name": "stderr",
     "output_type": "stream",
     "text": [
      "/home/alipasha/anaconda3/lib/python3.6/site-packages/ipykernel/__main__.py:70: DeprecationWarning: fractions.gcd() is deprecated. Use math.gcd() instead.\n"
     ]
    },
    {
     "name": "stdout",
     "output_type": "stream",
     "text": [
      "(h,m) 0 9 0.160328162664\n",
      "(h,m) 0 5 0.0645669632625\n",
      "(h,m) 0 3 0.00440896298583\n",
      "(h,m) 0 2 8.45071058711e-10\n",
      "input_state =  (22, 18, 499)\n",
      "sim 1 2 0.0\n",
      "(h,m) 1 30 0.524866943946\n",
      "(h,m) 1 9 0.144727385415\n",
      "(h,m) 1 5 0.0523910030133\n",
      "(h,m) 1 3 0.00208410910963\n",
      "(h,m) 1 2 1.40069431224e-10\n",
      "input_state =  (-376, 19, 749)\n",
      "sim 2 2 0.0\n",
      "(h,m) 2 30 0.571121016298\n",
      "(h,m) 2 9 0.183784067963\n",
      "(h,m) 2 5 0.0639541527846\n",
      "(h,m) 2 3 0.00619452776876\n",
      "(h,m) 2 2 1.43609671562e-05\n",
      "input_state =  (-374, 1, 999)\n",
      "sim 3 2 0.0\n",
      "(h,m) 3 30 0.542853451335\n",
      "(h,m) 3 9 0.170064944374\n",
      "(h,m) 3 5 0.0594311355294\n",
      "(h,m) 3 3 0.00610992588811\n",
      "(h,m) 3 2 1.19399085032e-05\n",
      "input_state =  (-372, 1, 1249)\n",
      "sim 4 2 0.0\n",
      "(h,m) 4 30 0.520274424009\n",
      "(h,m) 4 9 0.161172189556\n",
      "(h,m) 4 5 0.0563779669184\n",
      "(h,m) 4 3 0.0060035285747\n",
      "(h,m) 4 2 1.02858689159e-05\n",
      "input_state =  (-370, 1, 1499)\n",
      "sim 5 2 0.0\n",
      "(h,m) 5 30 0.506038617535\n",
      "(h,m) 5 9 0.155194745391\n",
      "(h,m) 5 5 0.0534484026351\n",
      "(h,m) 5 3 0.00585339865316\n",
      "(h,m) 5 2 8.94228711027e-06\n",
      "input_state =  (-368, 1, 1749)\n",
      "sim 6 2 0.0\n",
      "(h,m) 6 30 0.497196642553\n",
      "(h,m) 6 9 0.1535828621\n",
      "(h,m) 6 5 0.0518129795508\n",
      "(h,m) 6 3 0.00620118143449\n",
      "(h,m) 6 2 8.12601709559e-06\n",
      "input_state =  (34, 3, 1998)\n",
      "sim 7 2 0.0\n",
      "(h,m) 7 30 0.495820979853\n",
      "(h,m) 7 9 0.16053159179\n",
      "(h,m) 7 5 0.0560274909151\n",
      "(h,m) 7 3 0.00793691617618\n",
      "(h,m) 7 2 7.96679319678e-06\n",
      "input_state =  (-364, 1, 2248)\n",
      "sim 8 2 0.0\n",
      "(h,m) 8 30 0.49181611199\n",
      "(h,m) 8 9 0.160591217885\n",
      "(h,m) 8 5 0.0546873386904\n",
      "(h,m) 8 3 0.00816405637362\n",
      "(h,m) 8 2 7.37033170718e-06\n",
      "input_state =  (38, 4, 2497)\n",
      "sim 9 2 0.00378501\n",
      "(h,m) 9 30 0.499889631445\n",
      "(h,m) 9 9 0.170107550686\n",
      "(h,m) 9 5 0.0594034751597\n",
      "(h,m) 9 3 0.0106754593364\n",
      "(h,m) 9 2 0.000183170967777\n",
      "sim 9 2 0.0\n",
      "input_state =  (2, 3, 250)\n",
      "sim 0 2 0.0\n"
     ]
    },
    {
     "name": "stderr",
     "output_type": "stream",
     "text": [
      "/home/alipasha/anaconda3/lib/python3.6/site-packages/ipykernel/__main__.py:71: DeprecationWarning: fractions.gcd() is deprecated. Use math.gcd() instead.\n"
     ]
    },
    {
     "name": "stdout",
     "output_type": "stream",
     "text": [
      "(h,m,n) 0 30 6.81748615633\n",
      "(h,m,n) 0 9 5.89656298446e-19\n",
      "(h,m,n) 0 14 0.280821886425\n",
      "(h,m,n) 0 11 4.34584051502\n",
      "(h,m,n) 0 10 13.3436639118\n",
      "input_state =  (10, 26, 499)\n",
      "sim 1 9 0.120984\n",
      "(h,m,n) 1 30 0.834273772205\n",
      "(h,m,n) 1 9 0.153384994666\n",
      "(h,m,n) 1 5 5.95539745917\n",
      "(h,m,n) 1 3 4.65326145169e-33\n",
      "(h,m,n) 1 4 28.5405057471\n",
      "input_state =  (-388, 19, 749)\n",
      "sim 2 3 0.00706464\n",
      "(h,m,n) 2 30 2.98453865337\n",
      "(h,m,n) 2 9 0.194890473481\n",
      "(h,m,n) 2 5 0.0635986092022\n",
      "(h,m,n) 2 3 0.00553470046348\n",
      "(h,m,n) 2 2 1.06733463163e-05\n",
      "input_state =  (-386, 1, 999)\n",
      "sim 3 2 0.0\n",
      "(h,m,n) 3 30 11.141230239\n",
      "(h,m,n) 3 9 0.180130089015\n",
      "(h,m,n) 3 5 0.0914193058619\n",
      "(h,m,n) 3 3 0.00563922985101\n",
      "(h,m,n) 3 2 9.32787972588e-06\n",
      "input_state =  (-384, 1, 1249)\n",
      "sim 4 2 0.0\n",
      "(h,m,n) 4 30 0.543995084989\n",
      "(h,m,n) 4 9 288.577921301\n",
      "(h,m,n) 4 5 0.0566614028259\n",
      "(h,m,n) 4 3 0.00559802785376\n",
      "(h,m,n) 4 2 1.00675038738e-09\n",
      "input_state =  (-382, 1, 1499)\n",
      "sim 5 2 0.0\n",
      "(h,m,n) 5 30 0.524693326652\n",
      "(h,m,n) 5 9 13.2671694083\n",
      "(h,m,n) 5 5 0.0536414754777\n",
      "(h,m,n) 5 3 0.00550413233164\n",
      "(h,m,n) 5 2 7.31510655201e-06\n",
      "input_state =  (-380, 1, 1749)\n",
      "sim 6 2 0.0\n",
      "(h,m,n) 6 30 0.512665644155\n",
      "(h,m,n) 6 9 0.160569140104\n",
      "(h,m,n) 6 5 0.0519796254883\n",
      "(h,m,n) 6 3 0.00590187156287\n",
      "(h,m,n) 6 2 6.6026982179e-06\n",
      "input_state =  (22, 7, 1998)\n",
      "sim 7 2 0.0\n",
      "(h,m,n) 7 30 7.84089155594\n",
      "(h,m,n) 7 9 5.28738888164\n",
      "(h,m,n) 7 5 3.96113336388\n",
      "(h,m,n) 7 3 0.00758870414484\n",
      "(h,m,n) 7 2 3.03168736117\n",
      "input_state =  (-377, 1, 2248)\n",
      "sim 8 1 0.0\n",
      "(h,m,n) 8 30 0.501384895337\n",
      "(h,m,n) 8 9 1.9011006673e-18\n",
      "(h,m,n) 8 14 0.284734061357\n",
      "(h,m,n) 8 11 1.580496876e-15\n",
      "(h,m,n) 8 12 0.240443824653\n",
      "input_state =  (24, 16, 2497)\n",
      "sim 9 11 0.312452\n",
      "(h,m,n) 9 30 5.65186528252\n",
      "(h,m,n) 9 9 0.175998646824\n",
      "(h,m,n) 9 5 0.0594094213599\n",
      "(h,m,n) 9 3 0.0103202191286\n",
      "(h,m,n) 9 2 0.000174958910131\n",
      "sim 9 2 0.0\n",
      "input_state =  (2, 3, 250)\n",
      "sim 0 2 0.0\n",
      "Dynamic 0 30 0.0894282652288108\n",
      "Dynamic 0 9 0.0009856029510623876\n",
      "Dynamic 0 5 0.00029416816965618773\n",
      "Dynamic 0 7 0.000519592564770815\n",
      "Dynamic 0 6 0.0004142587726163519\n",
      "input_state =  (4, 26, 499)\n",
      "sim 1 6 0.0670369\n",
      "Dynamic 1 30 0.10768145691010833\n",
      "Dynamic 1 9 0.004277588689439563\n",
      "Dynamic 1 5 0.0003837647460542743\n",
      "Dynamic 1 7 0.0008182591474768446\n",
      "Dynamic 1 6 0.0005351350754218808\n",
      "input_state =  (9, 2, 748)\n",
      "sim 2 5 0.0798869\n",
      "Dynamic 2 30 0.09176635804858557\n",
      "Dynamic 2 9 0.001773340601552704\n",
      "Dynamic 2 5 0.0005569576557236251\n",
      "Dynamic 2 3 5.002367684157769e-05\n",
      "Dynamic 2 4 0.00029498354151623557\n",
      "input_state =  (-387, 1, 998)\n",
      "sim 3 4 0.030969\n",
      "Dynamic 3 30 0.09088865859571303\n",
      "Dynamic 3 9 0.0012269617520247204\n",
      "Dynamic 3 5 0.00035550921509297175\n",
      "Dynamic 3 7 0.0006503596182785971\n",
      "Dynamic 3 6 0.000502580476145578\n",
      "input_state =  (18, 1, 1247)\n",
      "sim 4 5 0.0359788\n",
      "Dynamic 4 30 0.09070340929963178\n",
      "Dynamic 4 9 0.0013274676005651954\n",
      "Dynamic 4 5 0.00038974096070530065\n",
      "Dynamic 4 7 0.0006932368183958363\n",
      "Dynamic 4 6 0.0005409151114317524\n",
      "input_state =  (-377, 22, 1497)\n",
      "sim 5 5 0.0371783\n",
      "Dynamic 5 30 0.09019933985390455\n",
      "Dynamic 5 9 0.000960714209370314\n",
      "Dynamic 5 5 0.00024527815981108963\n",
      "Dynamic 5 7 0.00045225317981173674\n",
      "Dynamic 5 8 0.0006605948756357689\n",
      "input_state =  (-375, 1, 1747)\n",
      "sim 6 7 0.0855263\n",
      "Dynamic 6 30 0.09002849858470222\n",
      "Dynamic 6 9 0.0008912224268055534\n",
      "Dynamic 6 5 0.00020214236389632805\n",
      "Dynamic 6 7 0.00039853569971343475\n",
      "Dynamic 6 8 0.0005477029316053987\n",
      "input_state =  (27, 1, 1996)\n",
      "sim 7 7 0.161889\n",
      "Dynamic 7 30 0.09024890128878957\n",
      "Dynamic 7 9 0.0012042248321119243\n",
      "Dynamic 7 5 0.00033756834488547717\n",
      "Dynamic 7 7 0.0006100170964087818\n",
      "Dynamic 7 6 0.00046735454604918255\n",
      "input_state =  (-371, 1, 2246)\n",
      "sim 8 6 0.0598749\n"
     ]
    }
   ],
   "source": [
    "for name in model_names:\n",
    "    new_results[name] = run(name, number_of_windows, write_to_file=False, res_periods=res_period_array,\n",
    "                            input_file=input_file, target_plr=target_plr, output_folder='results/')"
   ]
  },
  {
   "cell_type": "code",
   "execution_count": 400,
   "metadata": {
    "collapsed": false
   },
   "outputs": [
    {
     "data": {
      "text/plain": [
       "{'(h,m)': ([0,\n",
       "   1.3893278637661952e-10,\n",
       "   1.1935636704491561e-05,\n",
       "   8.9402480030862264e-06,\n",
       "   7.9575709198676463e-06,\n",
       "   0.00018237293897474234,\n",
       "   0.00018919665790746311,\n",
       "   0.00016721768607318591,\n",
       "   0.00014845824523272266,\n",
       "   0.00015424161712346035,\n",
       "   0.00012783098454110796],\n",
       "  [0.0563187, 0.0, 0.0, 0.0, 0.0, 0.0, 0.0, 0.0, 0.0, 0.0],\n",
       "  [30, 30, 30, 30, 30, 30, 30, 30, 30, 30],\n",
       "  [7.8905800000000006e-05,\n",
       "   0.0,\n",
       "   0.0,\n",
       "   0.0,\n",
       "   7.6967499999999991e-05,\n",
       "   0.0,\n",
       "   0.00043594139999999999,\n",
       "   0.00011336300000000001,\n",
       "   1.4758e-05,\n",
       "   0.0],\n",
       "  [2, 2, 2, 1, 2, 3, 3, 2, 2, 2])}"
      ]
     },
     "execution_count": 400,
     "metadata": {},
     "output_type": "execute_result"
    }
   ],
   "source": [
    "new_results"
   ]
  },
  {
   "cell_type": "code",
   "execution_count": 262,
   "metadata": {
    "collapsed": false
   },
   "outputs": [
    {
     "data": {
      "text/plain": [
       "'8-50000-10-Dallas.batch.dat'"
      ]
     },
     "execution_count": 262,
     "metadata": {},
     "output_type": "execute_result"
    }
   ],
   "source": [
    "outname = str(args_dict['seed']) + '-' + str(args_dict['window_size']) + '-' + str(number_of_windows) + '-' + str(args_dict['batchfile_path'])\n",
    "outname"
   ]
  },
  {
   "cell_type": "code",
   "execution_count": 266,
   "metadata": {
    "collapsed": true
   },
   "outputs": [],
   "source": [
    "model_names = ['(h,m,n)']\n",
    "\n"
   ]
  },
  {
   "cell_type": "markdown",
   "metadata": {},
   "source": [
    "<a id='save'></a>\n",
    "# 3. Save results<sup>[head](#head)</sup>"
   ]
  },
  {
   "cell_type": "code",
   "execution_count": 263,
   "metadata": {
    "collapsed": false
   },
   "outputs": [],
   "source": [
    "for label, arrays in new_results.items():\n",
    "    ana = arrays[0]\n",
    "    sim = arrays[1]\n",
    "    tres = arrays[2]\n",
    "    with open(label + '-' + outname,\"w\") as f:\n",
    "        for i in range(len(sim)):\n",
    "            f.write(\"{0}\\t{1}\\t{2}\\n\".format(ana[i + 1],sim[i],tres[i]))\n",
    "    f.close()"
   ]
  },
  {
   "cell_type": "markdown",
   "metadata": {},
   "source": [
    "<a id='plots'></a>\n",
    "# 4. Plots<sup>[head](#head)</sup>"
   ]
  },
  {
   "cell_type": "code",
   "execution_count": 264,
   "metadata": {
    "collapsed": false
   },
   "outputs": [],
   "source": [
    "from matplotlib import rc, rcParams\n",
    "rc('font', **{'family': 'serif', 'serif': ['Computer Modern']})\n",
    "rc('text', usetex=True)\n",
    "\n",
    "#rc('font',**{'family':'serif'})\n",
    "rc('text', usetex=True)\n",
    "rc('text.latex', unicode=True)\n",
    "rc('text.latex', preamble=r'\\usepackage[utf8]{inputenc}')\n",
    "rc('text.latex', preamble=r'\\usepackage[english]{babel}')\n",
    "rcParams['legend.fontsize'] = 15\n",
    "rcParams['axes.labelsize'] = 14"
   ]
  },
  {
   "cell_type": "code",
   "execution_count": 265,
   "metadata": {
    "collapsed": false
   },
   "outputs": [
    {
     "data": {
      "image/png": "[encoded data removed]",
      "text/plain": [
       "<matplotlib.figure.Figure at 0x7f0749a6cac8>"
      ]
     },
     "metadata": {},
     "output_type": "display_data"
    },
    {
     "data": {
      "image/png": "[encoded data removed]",
      "text/plain": [
       "<matplotlib.figure.Figure at 0x7f0749d28f28>"
      ]
     },
     "metadata": {},
     "output_type": "display_data"
    },
    {
     "data": {
      "image/png": "[encoded data removed]",
      "text/plain": [
       "<matplotlib.figure.Figure at 0x7f07490387f0>"
      ]
     },
     "metadata": {},
     "output_type": "display_data"
    }
   ],
   "source": [
    "%matplotlib inline\n",
    "from mpl_toolkits.axes_grid1 import host_subplot\n",
    "import mpl_toolkits.axisartist as AA\n",
    "import matplotlib.pyplot as plt\n",
    "\n",
    "window_number = [i + 1 for i in range(number_of_windows)]\n",
    "n_plots = len(results)\n",
    "for n_plot, (label, (ana_plrs, sim_plrs, res_periods)) in enumerate(new_results.items()):\n",
    "    ana_plrs = ana_plrs[::-1]\n",
    "    ana_plrs.pop()\n",
    "    ana_plrs = ana_plrs[::-1]\n",
    "    plt.figure(figsize=(10, 20))\n",
    "    ax1 = host_subplot(n_plots, 1, n_plot + 1)\n",
    "    ax2 = ax1.twinx()\n",
    "    ax1.set_xlabel(\"Window number\", color='k')\n",
    "    ax1.set_ylabel(\"PLR\", color='k')\n",
    "    ax2.set_ylabel(\"$T_{res}$\", color='k')\n",
    "    \n",
    "    p_sim, = ax1.plot(window_number, sim_plrs, linestyle='none', label=\"PLR imitation\", marker='v')\n",
    "    p_ana, = ax1.plot(window_number, ana_plrs, linestyle='none', label=\"PLR math\", marker='^')\n",
    "    p_Tres, = ax2.plot(window_number, res_periods, linestyle='none', label=\"$T_{res}$\", marker='x')\n",
    "\n",
    "    leg = ax1.legend()\n",
    "\n",
    "    \"\"\"host.yaxis.get_label().set_color(p_sim.get_color())\n",
    "    leg.texts[0].set_color(p_sim.get_color())\n",
    "\n",
    "    par.yaxis.get_label().set_color(p_ana.get_color())\n",
    "    leg.texts[1].set_color(p_ana.get_color())\n",
    "\n",
    "    host.yaxis.get_label().set_color(p_Tres.get_color())\n",
    "    leg.texts[2].set_color(p_Tres.get_color())\"\"\"\n",
    "\n",
    "    ax1.set_yscale('log')\n",
    "    ax1.set_xlim(window_number[0], window_number[len(window_number) - 1])\n",
    "    ax1.set_ylim(1e-9, 1)\n",
    "    ax1.axhline(target_plr, color='red', lw=2)\n",
    "    ax1.set_title(label + ' model')\n",
    "    #fig = ax.savefig(model_name + '.Dallas.test.png', format='png', dpi = 1000)\n",
    "    plt.show()\n",
    "    #plt.clf()"
   ]
  },
  {
   "cell_type": "code",
   "execution_count": null,
   "metadata": {
    "collapsed": true
   },
   "outputs": [],
   "source": []
  }
 ],
 "metadata": {
  "kernelspec": {
   "display_name": "Python 3",
   "language": "python",
   "name": "python3"
  },
  "language_info": {
   "codemirror_mode": {
    "name": "ipython",
    "version": 3
   },
   "file_extension": ".py",
   "mimetype": "text/x-python",
   "name": "python",
   "nbconvert_exporter": "python",
   "pygments_lexer": "ipython3",
   "version": "3.6.0"
  }
 },
 "nbformat": 4,
 "nbformat_minor": 2
}
